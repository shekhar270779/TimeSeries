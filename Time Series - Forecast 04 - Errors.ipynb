{
 "cells": [
  {
   "cell_type": "markdown",
   "metadata": {},
   "source": [
    "### Forecast Error\n",
    "Forecast error is the difference between the actual or real VS the predicted or forecast value of a time series"
   ]
  },
  {
   "cell_type": "markdown",
   "metadata": {},
   "source": [
    "- Forecast error are important as they help to identify whether a certain forecast is usable or not\n",
    "- If forecast error is too high then there is no point in using that forecast\n",
    "- Since there are different forecasting models, so the model with least forecast error should be the one to be picked"
   ]
  },
  {
   "cell_type": "markdown",
   "metadata": {},
   "source": [
    "#### Mean Forecast Error (Forecast Bias))"
   ]
  },
  {
   "cell_type": "markdown",
   "metadata": {},
   "source": [
    "Suppose $y_{1}$, $y_{2}$,$y_{3}$,... $y_{n}$ represent a time series. <br>\n",
    "$\\hat{y}_{i}$ represents the $i^{th}$ forecasted value, where i <= n . <br>\n",
    "$i^{th}$ error $e_{i}$ is then $e_{i}$ = $y_{i}$ - $\\hat{y}_{i}$"
   ]
  },
  {
   "cell_type": "markdown",
   "metadata": {},
   "source": [
    "It we take mean of all such errors , we get mean forecast error. <br>\n",
    "MFE =$\\frac1n \\sum_{i=1}^n e_i$"
   ]
  },
  {
   "cell_type": "markdown",
   "metadata": {},
   "source": [
    " A mean forecast error value other than zero suggests a tendency of the model to over forecast (negative error) or under forecast (positive error). "
   ]
  },
  {
   "cell_type": "markdown",
   "metadata": {},
   "source": [
    "#### Mean Absolute Error (MAE)"
   ]
  },
  {
   "cell_type": "markdown",
   "metadata": {},
   "source": [
    "MAE = 1/n * $\\sum_{i=1}^n |e_i|$\n",
    "<br>\n",
    "- We calculate mean on absolute value of error\n",
    "- It tells on an average, how much our forecast are off the actual value\n",
    "- Since MFE might cancel out a lot of overestimated and underestimated forecasts, hence measuring the mean absolute error or MAE makes more sense"
   ]
  },
  {
   "cell_type": "markdown",
   "metadata": {},
   "source": [
    "#### Mean Absolute Percentage Error (MAPE):\n",
    "- The problem with MAE is that even if you get an error value, you have nothing to compare it against. <br>\n",
    "- For example, if the MAE that you get is 1.5, you cannot tell just on the basis of this number whether you have made a good forecast or not. <br>\n",
    "- If the actual values are in single digits, this error of 1.5 is obviously high but if the actual values are, say in the order of thousands, an error of 1.5 indicates a good forecast. <br>\n",
    "So in order to capture how the forecast is doing based upon the actual values, you evaluate mean absolute error where you take the mean absolute error (MAE) as the percentage of the actual values of y"
   ]
  },
  {
   "cell_type": "markdown",
   "metadata": {},
   "source": [
    "MAPE  = $\\frac{100}n \\sum_{i=1}^n \\frac{|e_i|}{y_i}$"
   ]
  },
  {
   "cell_type": "markdown",
   "metadata": {},
   "source": [
    "#### Mean Squared Error"
   ]
  },
  {
   "cell_type": "markdown",
   "metadata": {},
   "source": [
    "MSE = $\\frac1n  \\sum_{i=1}^n e_i^2$"
   ]
  },
  {
   "cell_type": "markdown",
   "metadata": {},
   "source": [
    "We simply square the error values, sum them up and take their average. This is known as mean squared error or MSE "
   ]
  },
  {
   "cell_type": "markdown",
   "metadata": {},
   "source": [
    "Squaring the forecast error values forces them to be positive; it also has the effect of putting more weight on large errors."
   ]
  },
  {
   "cell_type": "markdown",
   "metadata": {},
   "source": [
    "#### Root Mean Squared Error"
   ]
  },
  {
   "cell_type": "markdown",
   "metadata": {},
   "source": [
    "RMSE = $\\sqrt{\\frac1n  \\sum_{i=1}^n e_i^2}$"
   ]
  },
  {
   "cell_type": "code",
   "execution_count": 1,
   "metadata": {},
   "outputs": [],
   "source": [
    "import numpy as np\n",
    "import pandas as pd"
   ]
  },
  {
   "cell_type": "code",
   "execution_count": 2,
   "metadata": {},
   "outputs": [],
   "source": [
    "#read data from file\n",
    "df = pd.read_csv(r'./data/airline-traffic.csv', header=None)\n",
    "\n",
    "#rename column headers\n",
    "df.columns  =['Month', 'Passengers']\n",
    "\n",
    "# make month column as datetime\n",
    "df['Month'] = pd.to_datetime(df['Month'], format='%Y-%m')\n",
    "\n",
    "# Change month column as index\n",
    "df.set_index('Month', inplace=True)\n",
    "\n",
    "# impute missing values by linear interpolate \n",
    "df.Passengers.interpolate(method='linear', inplace=True)\n",
    "\n",
    "# change datatype of passengers as int\n",
    "df['Passengers'] = df['Passengers'].astype('int')"
   ]
  },
  {
   "cell_type": "code",
   "execution_count": 3,
   "metadata": {},
   "outputs": [],
   "source": [
    "### Split data into train , test\n",
    "train =  df[0:120]\n",
    "test  =  df[120:]"
   ]
  },
  {
   "cell_type": "code",
   "execution_count": 5,
   "metadata": {},
   "outputs": [
    {
     "data": {
      "text/html": [
       "<div>\n",
       "<style scoped>\n",
       "    .dataframe tbody tr th:only-of-type {\n",
       "        vertical-align: middle;\n",
       "    }\n",
       "\n",
       "    .dataframe tbody tr th {\n",
       "        vertical-align: top;\n",
       "    }\n",
       "\n",
       "    .dataframe thead th {\n",
       "        text-align: right;\n",
       "    }\n",
       "</style>\n",
       "<table border=\"1\" class=\"dataframe\">\n",
       "  <thead>\n",
       "    <tr style=\"text-align: right;\">\n",
       "      <th></th>\n",
       "      <th>Passengers</th>\n",
       "      <th>naive_forecast</th>\n",
       "    </tr>\n",
       "    <tr>\n",
       "      <th>Month</th>\n",
       "      <th></th>\n",
       "      <th></th>\n",
       "    </tr>\n",
       "  </thead>\n",
       "  <tbody>\n",
       "    <tr>\n",
       "      <th>1959-01-01</th>\n",
       "      <td>360</td>\n",
       "      <td>337</td>\n",
       "    </tr>\n",
       "    <tr>\n",
       "      <th>1959-02-01</th>\n",
       "      <td>342</td>\n",
       "      <td>337</td>\n",
       "    </tr>\n",
       "    <tr>\n",
       "      <th>1959-03-01</th>\n",
       "      <td>406</td>\n",
       "      <td>337</td>\n",
       "    </tr>\n",
       "    <tr>\n",
       "      <th>1959-04-01</th>\n",
       "      <td>396</td>\n",
       "      <td>337</td>\n",
       "    </tr>\n",
       "    <tr>\n",
       "      <th>1959-05-01</th>\n",
       "      <td>420</td>\n",
       "      <td>337</td>\n",
       "    </tr>\n",
       "  </tbody>\n",
       "</table>\n",
       "</div>"
      ],
      "text/plain": [
       "            Passengers  naive_forecast\n",
       "Month                                 \n",
       "1959-01-01         360             337\n",
       "1959-02-01         342             337\n",
       "1959-03-01         406             337\n",
       "1959-04-01         396             337\n",
       "1959-05-01         420             337"
      ]
     },
     "execution_count": 5,
     "metadata": {},
     "output_type": "execute_result"
    }
   ],
   "source": [
    "## Naive  method\n",
    "y_hat_naive  = test.copy()\n",
    "\n",
    "y_hat_naive['naive_forecast'] = train.iloc[-1][0]\n",
    "\n",
    "y_hat_naive.head()"
   ]
  },
  {
   "cell_type": "code",
   "execution_count": 17,
   "metadata": {},
   "outputs": [
    {
     "name": "stdout",
     "output_type": "stream",
     "text": [
      "MFE: 115.54166666666667\n",
      "MAE: 115.54166666666667\n",
      "MAPE: 23.632534624153944\n",
      "RMSE: 137.51045414803923\n"
     ]
    }
   ],
   "source": [
    "error = y_hat_naive.Passengers - y_hat_naive.naive_forecast\n",
    "mfe = sum(error) / len(error)\n",
    "print(f\"MFE: {mfe}\")\n",
    "\n",
    "abs_error = abs(y_hat_naive.Passengers - y_hat_naive.naive_forecast)\n",
    "mae = sum(abs_error) / len(abs_error)\n",
    "print(f\"MAE: {mae}\")\n",
    "\n",
    "mape = sum(abs_error/y_hat_naive.Passengers) * 100 / len(abs_error)\n",
    "print(f\"MAPE: {mape}\")\n",
    "\n",
    "rmse = np.sqrt(sum(error**2) / len(error))\n",
    "print(f\"RMSE: {rmse}\")"
   ]
  },
  {
   "cell_type": "code",
   "execution_count": 4,
   "metadata": {},
   "outputs": [
    {
     "data": {
      "text/html": [
       "<div>\n",
       "<style scoped>\n",
       "    .dataframe tbody tr th:only-of-type {\n",
       "        vertical-align: middle;\n",
       "    }\n",
       "\n",
       "    .dataframe tbody tr th {\n",
       "        vertical-align: top;\n",
       "    }\n",
       "\n",
       "    .dataframe thead th {\n",
       "        text-align: right;\n",
       "    }\n",
       "</style>\n",
       "<table border=\"1\" class=\"dataframe\">\n",
       "  <thead>\n",
       "    <tr style=\"text-align: right;\">\n",
       "      <th></th>\n",
       "      <th>Passengers</th>\n",
       "      <th>Simple_Avg</th>\n",
       "    </tr>\n",
       "    <tr>\n",
       "      <th>Month</th>\n",
       "      <th></th>\n",
       "      <th></th>\n",
       "    </tr>\n",
       "  </thead>\n",
       "  <tbody>\n",
       "    <tr>\n",
       "      <th>1959-01-01</th>\n",
       "      <td>360</td>\n",
       "      <td>245.891667</td>\n",
       "    </tr>\n",
       "    <tr>\n",
       "      <th>1959-02-01</th>\n",
       "      <td>342</td>\n",
       "      <td>245.891667</td>\n",
       "    </tr>\n",
       "    <tr>\n",
       "      <th>1959-03-01</th>\n",
       "      <td>406</td>\n",
       "      <td>245.891667</td>\n",
       "    </tr>\n",
       "    <tr>\n",
       "      <th>1959-04-01</th>\n",
       "      <td>396</td>\n",
       "      <td>245.891667</td>\n",
       "    </tr>\n",
       "    <tr>\n",
       "      <th>1959-05-01</th>\n",
       "      <td>420</td>\n",
       "      <td>245.891667</td>\n",
       "    </tr>\n",
       "  </tbody>\n",
       "</table>\n",
       "</div>"
      ],
      "text/plain": [
       "            Passengers  Simple_Avg\n",
       "Month                             \n",
       "1959-01-01         360  245.891667\n",
       "1959-02-01         342  245.891667\n",
       "1959-03-01         406  245.891667\n",
       "1959-04-01         396  245.891667\n",
       "1959-05-01         420  245.891667"
      ]
     },
     "execution_count": 4,
     "metadata": {},
     "output_type": "execute_result"
    }
   ],
   "source": [
    "# Simple Average Method\n",
    "\n",
    "y_hat_avg = test.copy()\n",
    "\n",
    "y_hat_avg['Simple_Avg'] = np.mean(train.Passengers)\n",
    "\n",
    "y_hat_avg.head()"
   ]
  },
  {
   "cell_type": "code",
   "execution_count": 5,
   "metadata": {},
   "outputs": [
    {
     "name": "stdout",
     "output_type": "stream",
     "text": [
      "MFE: 206.65\n",
      "MAE: 206.65\n",
      "MAPE: 44.27856575556158\n",
      "RMSE: 219.68948714922365\n"
     ]
    }
   ],
   "source": [
    "error = y_hat_avg.Passengers - y_hat_avg.Simple_Avg\n",
    "mfe = sum(error) / len(error)\n",
    "print(f\"MFE: {mfe}\")\n",
    "\n",
    "abs_error = abs(y_hat_avg.Passengers - y_hat_avg.Simple_Avg)\n",
    "mae = sum(abs_error) / len(abs_error)\n",
    "print(f\"MAE: {mae}\")\n",
    "\n",
    "mape = sum(abs_error/y_hat_avg.Passengers) * 100 / len(abs_error)\n",
    "print(f\"MAPE: {mape}\")\n",
    "\n",
    "rmse = np.sqrt(sum(error**2) / len(error))\n",
    "print(f\"RMSE: {rmse}\")"
   ]
  },
  {
   "cell_type": "code",
   "execution_count": null,
   "metadata": {},
   "outputs": [],
   "source": []
  }
 ],
 "metadata": {
  "kernelspec": {
   "display_name": "Python3_6",
   "language": "python",
   "name": "test_env_3"
  },
  "language_info": {
   "codemirror_mode": {
    "name": "ipython",
    "version": 3
   },
   "file_extension": ".py",
   "mimetype": "text/x-python",
   "name": "python",
   "nbconvert_exporter": "python",
   "pygments_lexer": "ipython3",
   "version": "3.6.10"
  },
  "toc": {
   "base_numbering": 1,
   "nav_menu": {},
   "number_sections": true,
   "sideBar": true,
   "skip_h1_title": false,
   "title_cell": "Table of Contents",
   "title_sidebar": "Contents",
   "toc_cell": false,
   "toc_position": {},
   "toc_section_display": true,
   "toc_window_display": false
  }
 },
 "nbformat": 4,
 "nbformat_minor": 4
}
