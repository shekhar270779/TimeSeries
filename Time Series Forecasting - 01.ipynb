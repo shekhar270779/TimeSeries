{
 "cells": [
  {
   "cell_type": "markdown",
   "metadata": {},
   "source": [
    "### Forecasting\n",
    "Forecasting is the process of making predictions of the future based on past and present data by analysis of trends"
   ]
  },
  {
   "cell_type": "markdown",
   "metadata": {},
   "source": [
    "### Forecasting methods\n",
    "Forecasting methods can be classified into two groups: qualitative and quantitative"
   ]
  },
  {
   "cell_type": "markdown",
   "metadata": {},
   "source": [
    "#### Qualitative Method\n",
    "- Also called as judgmental method, in which the forecast is made subjectively by the forecaster(s) /experts based on intuition, knowledge, and experience. \n",
    "- This procedure is taken when historical data is not available and historical patterns do not repeat.\n",
    "- Eg **Delphi Method** : \n",
    "    - The Delphi method is a forecasting process framework based on the results of multiple rounds of questionnaires sent to a panel of experts. \n",
    "    - Several rounds of questionnaires are sent out to the group of experts, and the anonymous responses are aggregated and shared with the group after each round. \n",
    "    - The experts are allowed to adjust their answers in subsequent rounds, based on how they interpret the \"group response\" that has been provided to them. \n",
    "    - Since multiple rounds of questions are asked and the panel is told what the group thinks as a whole, the Delphi method seeks to reach the correct response through consensus.\n"
   ]
  },
  {
   "cell_type": "markdown",
   "metadata": {},
   "source": [
    "#### Quantitative Method\n",
    "- Quantitative forecasting or data driven forecasting relies on the fact that we have enough \n",
    "historical (past) data , and historical data is representative of future patterns in the data.\n",
    "- Captures complex patterns which human cannot identify.\n",
    "- No bias\n",
    "- E.g. Time series forecasting"
   ]
  },
  {
   "cell_type": "markdown",
   "metadata": {},
   "source": [
    "### Time Series Forecasting"
   ]
  },
  {
   "cell_type": "markdown",
   "metadata": {},
   "source": [
    "#### Time Series Data\n",
    "- is a set of observations over a sequence of time separated by equal intervals.\n",
    "- Time series data is an ordered sequence of values of a variable at equally spaced time intervals. \n",
    "- Any data that has a time component involved in it is termed as a time-series data. \n",
    "- For example, the number of orders made on a food ordering app per day is an example of time-series data. \n",
    "\n",
    "#### Time Series analysis\n",
    "- The methods of analyzing time series data in order to extract meaningful statistics and other characteristics is called time series analysis. \n",
    "- Looking at time series data, identifying patterns , calculating statistics on Time Series data.\n",
    "- Lets take a food ordering app example again. The app might have the data for every day logged in per hour. They might notice that in this data, the number of orders is significantly higher in, say, the 1-2 PM time slot but is significantly lower in the 3-4 PM time slot. This information might be useful for them as they would then be able to estimate the number of delivery boys required at a particular time of the day. Hence, time series analysis is indispensable while working with any time series data.\n"
   ]
  },
  {
   "cell_type": "markdown",
   "metadata": {},
   "source": [
    "#### Time Series forecasting\n",
    "Time series forecasting is basically looking at the past data to make predictions into the future. Say that the food ordering app wants to predict the number of orders per day for the next month in order to plan the resources better. For this, they will look at tons of past data and use it in order to forecast accurately."
   ]
  },
  {
   "cell_type": "markdown",
   "metadata": {},
   "source": [
    "#### Difference between Time Series analysis and Time Series Forecasting\n",
    "Time series analysis comprises methods for analyzing time series data in order to extract meaningful statistics and other characteristics of the data. Time series forecasting is the use of a model to predict future values based on previously observed values"
   ]
  },
  {
   "cell_type": "markdown",
   "metadata": {},
   "source": [
    "#### Examples of Time Series Analysis\n",
    "- As an agricultural officer you want to know different crop yields (in tons) of the previous year district wise.\n",
    "- As an health officer you want to know the infant mortality rate in your state since the last 10 years.\n",
    "- As a sales manager of a company you want to know the product units sold each day in the previous month.\n",
    "- As minister of a state you want to know the unemployment for your state in each financial quarter.\n"
   ]
  },
  {
   "cell_type": "markdown",
   "metadata": {},
   "source": [
    "### Basic Steps for Forecasting"
   ]
  },
  {
   "cell_type": "markdown",
   "metadata": {},
   "source": [
    "#### **Define the Problem**\n",
    "- We talk to business stakeholders, identify the problem and translate it into Time Series Forecasting problem\n",
    "- Defining the problem may seem simple at first because it looks like you are simply asking how the company's sales will look like in a few months. \n",
    "- However, this step is quite tricky. It requires you to know how the market works, and what your customer base and competition are.\n",
    "- You should spend some time evaluating these issues together with the business people "
   ]
  },
  {
   "cell_type": "markdown",
   "metadata": {},
   "source": [
    "#### **Collect the data**\n",
    "Forecasting is based on the assumption that the past predicts the future. Irrelevant and inaccurate data with less number of records can’t have a good prediction.\n",
    "<br>\n",
    "There are three important characteristics that every time series data must exhibit in order for us to make a good forecast.\n",
    "\n",
    "- Relevance: The time-series data should be relevant for the set objective that we want to achieve.\n",
    "- Accuracy: The data should be accurate in terms of capturing the timestamps and capturing the observation correctly.\n",
    "- Long enough duration : The data should be long enough to forecast. This is because it is important to identify all the patterns in the past and forecast which patterns repeat in the future.\n",
    "    \n",
    "<br>\n",
    "\n",
    "**Source of data**\n",
    "- Private enterprise data: E.g. financial information about the quarterly results \n",
    "- Public data: E.g. government publishes the economic indicators  such as GDP, consumer price index etc.\n",
    "- System/Sensor data: E.g. Logs generated by the servers during their 24/7 working hours."
   ]
  },
  {
   "cell_type": "markdown",
   "metadata": {},
   "source": [
    "#### **Analyze the data**\n",
    "Time series analysis helps to identify patterns in data , and other key characterstics of data"
   ]
  },
  {
   "cell_type": "markdown",
   "metadata": {},
   "source": [
    "#### **Build and evaluate the forecast model**\n",
    "Based on business objective, the data available to us and bsed on insights gathered from time series analysis, we identify which are one or two most applicable models we need to build.\n",
    "Once we have built models, we need to evaluate which is the best model based on criteria like which forecast is more accurate, \n",
    "complexity of model, usability of model"
   ]
  },
  {
   "cell_type": "markdown",
   "metadata": {},
   "source": [
    "### What to forecast\n",
    "#### Quantity :\n",
    "- What Quantity are we forecasting\n",
    "- Are we forecasting for stock price, or no. of units of products will sale in coming quarter"
   ]
  },
  {
   "cell_type": "markdown",
   "metadata": {},
   "source": [
    "#### Granularity\n",
    "- At what level of granularity i.e. depth we are trying to forecast\n",
    "- at local store level or regional level or at country level\n",
    "\n",
    "#### Frequency\n",
    "- How often we generate these forecasts, weekly, monthly, quarterly, yearly\n",
    "\n",
    "#### Horizon\n",
    "- Short term forecast, medium term forecast, long term forecast\n",
    "- Short term forecast is typically used to decide operational stuff like no. of orders expected next week\n",
    "- Medium term forecast for target setting eg. how many machines we need , how many people to hire\n",
    "- Long term forecast - a strategic decision i.e. whether we should open a new store \n"
   ]
  },
  {
   "cell_type": "markdown",
   "metadata": {},
   "source": [
    "Eg. to forecast no. of units of a particular product sold across regions over next quarter, this forecast to be given on monthly basis"
   ]
  },
  {
   "cell_type": "markdown",
   "metadata": {},
   "source": [
    "*Bottom up approach* - We forecast at store level , aggregate them to give forecast at region level<br>\n",
    "*Top down approach* - We forecast at national level, then break it down into regional level<br>\n",
    "*Rules*\n",
    "- *Granularity Rule* - The more aggregate our forecasts are the more accurate they will be , as aggregated data has less noise, the more granular we go , noise gets introduced.\n",
    "Suppose you work at an online entertainment streaming service, and you want to predict the number of views for a few newly launched TV show in Mumbai for the next one year. \n",
    "Now, would you be more accurate in your predictions if you predicted at the city-level or if you go at an area-level? \n",
    "Obviously, accurately predicting the views from each area might be difficult but when you sum up the number of views for each area and present your final predictions at a city-level, your predictions might be more accurate. \n",
    "This is because, for some areas, you might have predicted lower views than the actual whereas, for some, the number of predicted views might be higher. And when you sum all of these up, the noise and variance cancel each other out, leaving you with a good prediction. \n",
    "Hence, you should not make predictions at very granular levels.\n",
    "    \n",
    "- *Frequency* - It is is better to update our forcasts frequently, as we want new information that is available to be taken into consideration so updating forecasts frequently helps \n",
    "- Forecasts are more accurate for shorter than longer time horizons. The shorter the time horizon of the forecast, the lower the degree of uncertainty. Data do not change very much in the short run.\n"
   ]
  },
  {
   "cell_type": "markdown",
   "metadata": {},
   "source": [
    "### Components of a time series model"
   ]
  },
  {
   "cell_type": "markdown",
   "metadata": {},
   "source": [
    "**Level** : \n",
    "- Level of a time series is the base line around which the average of entire series and future goes a a horizontal line\n",
    "- This is the baseline of a time series. This gives the baseline to which we add the different other components.\n",
    "- When you read about the “level” or the “level index” of time series data, it’s referring to the mean of the series."
   ]
  },
  {
   "cell_type": "markdown",
   "metadata": {},
   "source": [
    "**Trend**:\n",
    "- Trend can be upwards or downwards. Trend captures over a long term whether time series moves lower or higher\n",
    "- For example, in the Sensex graph you can clearly observe for a given stock over a period of time that with  time, the overall price of stock is increasing or decreasing\n",
    "- When referring to the “trend” in time series data, it means that the data has a long term trajectory which can either be trending in the positive or negative direction. An example of a trend would be a long term increase in a company’s sales data or network usage.\n"
   ]
  },
  {
   "cell_type": "code",
   "execution_count": 2,
   "metadata": {},
   "outputs": [
    {
     "data": {
      "image/png": "[encoded data removed]",
      "text/plain": [
       "<IPython.core.display.Image object>"
      ]
     },
     "execution_count": 2,
     "metadata": {},
     "output_type": "execute_result"
    }
   ],
   "source": [
    "from IPython.display import Image\n",
    "Image(r\"./img/pnb.png\")"
   ]
  },
  {
   "cell_type": "markdown",
   "metadata": {},
   "source": [
    "**Seasonality**:\n",
    "- Seasonality is repeatable pattern in data, which repeat themselves after a given period and period id fixed.\n",
    "- It is a pattern in a time-series data that repeats itself after a given period of time.\n",
    "- If there are regular and predictable fluctuations in the series that are correlated with the calendar – could be quarterly, weekly, or even days of the week, then the series includes a seasonality component. It’s important to note that seasonality is domain specific\n",
    "- A seasonal pattern exists when a series is influenced by seasonal factors (e.g., the quarter of the year, the month, or day of the week). Seasonality is always of a fixed and known period. Hence, seasonal time series are sometimes called periodic time series.\n",
    "- Eg Sales of a AC selling company would peak during summer season and come down during winter season"
   ]
  },
  {
   "cell_type": "markdown",
   "metadata": {},
   "source": [
    "**Cycle**\n",
    "- Repeating periods that are not related to the calendar. This includes business cycles such as economic downturns or expansions\n",
    "- Interval between cycles is not fixed, but can be predicted "
   ]
  },
  {
   "cell_type": "markdown",
   "metadata": {},
   "source": [
    "**Difference between Cycle and Seasonality**<br>\n",
    "\n",
    "Many people confuse cyclic behaviour with seasonal behaviour, but they are really quite different. If the fluctuations are not of fixed period then they are cyclic; if the period is unchanging and associated with some aspect of the calendar, then the pattern is seasonal. In general, the average length of cycles is longer than the length of a seasonal pattern, and the magnitude of cycles tends to be more variable than the magnitude of seasonal patterns.\n"
   ]
  },
  {
   "cell_type": "markdown",
   "metadata": {},
   "source": [
    "**Noise**\n",
    "- All time series data will have noise or randomness in the data points that aren’t correlated with any explained trends. Noise is unsystematic and is short term.\n",
    "- Noise is the completely random fluctuation present in the data and we cannot use this component to forecast into the future. \n"
   ]
  },
  {
   "cell_type": "markdown",
   "metadata": {},
   "source": [
    "- It is important to note that not all time series data will include all of these time series components.\n",
    "- Every time series has a level and noise, while trend, seasonal and cyclic patterns are optional.\n"
   ]
  },
  {
   "cell_type": "code",
   "execution_count": null,
   "metadata": {},
   "outputs": [],
   "source": []
  }
 ],
 "metadata": {
  "kernelspec": {
   "display_name": "Python 3",
   "language": "python",
   "name": "python3"
  },
  "language_info": {
   "codemirror_mode": {
    "name": "ipython",
    "version": 3
   },
   "file_extension": ".py",
   "mimetype": "text/x-python",
   "name": "python",
   "nbconvert_exporter": "python",
   "pygments_lexer": "ipython3",
   "version": "3.6.10"
  },
  "toc": {
   "base_numbering": 1,
   "nav_menu": {},
   "number_sections": true,
   "sideBar": true,
   "skip_h1_title": false,
   "title_cell": "Table of Contents",
   "title_sidebar": "Contents",
   "toc_cell": false,
   "toc_position": {},
   "toc_section_display": true,
   "toc_window_display": false
  }
 },
 "nbformat": 4,
 "nbformat_minor": 4
}
