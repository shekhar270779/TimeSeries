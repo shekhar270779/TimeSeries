{
 "cells": [
  {
   "cell_type": "markdown",
   "metadata": {},
   "source": [
    "### Holt's Exponential Smoothing technique"
   ]
  },
  {
   "cell_type": "markdown",
   "metadata": {},
   "source": [
    "- Simple exponential smoothing technique captures level of a time series. In this tutoral we will learn about Holt's exponential smoothing technique which captures both level and trend of a time series in the forecast.\n",
    "- Holt (1957) extended simple exponential smoothing to allow the forecasting of data with a trend. This method involves a forecast equation and two smoothing equations (one for the level and one for the trend)\n",
    "    "
   ]
  },
  {
   "cell_type": "markdown",
   "metadata": {},
   "source": [
    "**Forecast Equation**: <br>\n",
    "    $\\hat{y}_{t+1} = l_t + b_t$\n",
    "<br>\n",
    "$l_t$ is level component<br>\n",
    "$b_t$ is trend component"
   ]
  },
  {
   "cell_type": "markdown",
   "metadata": {},
   "source": [
    "**Trend Equation**: <br>\n",
    "    ${b}_{t} = \\beta*(l_t - l_{t-1}) + (1 - \\beta)* b_{t-1}$\n",
    "<br>\n",
    "where β is the smoothing parameter for trend<br>\n",
    "\n",
    "The difference in the level components in the recent observation shows the trend of the recent value, \n",
    "which is assigned a weight of β, whereas the trend values of the previous observations are assigned a weight of \n",
    "(1−β)\n",
    " ."
   ]
  },
  {
   "cell_type": "markdown",
   "metadata": {},
   "source": [
    "**Equation of level component**<br>\n",
    "$l_t = \\alpha*y_t + (1-\\alpha)*(l_{t-1} + b_{t-1})$"
   ]
  },
  {
   "cell_type": "markdown",
   "metadata": {},
   "source": [
    "  \n",
    "- $ℓ_t$ : denotes an estimate of the level of the series at time t\n",
    "- $b_t$ : denotes an estimate of the trend (slope) of the series at time t\n",
    "- α : is the smoothing parameter for the level, where 0 ≤ α ≤ 1\n",
    "- β : is the smoothing parameter for the trend,  where 0 ≤ β ≤ 1\n",
    " ."
   ]
  },
  {
   "cell_type": "code",
   "execution_count": 2,
   "metadata": {},
   "outputs": [],
   "source": [
    "import numpy as np\n",
    "import pandas as pd\n",
    "import matplotlib.pyplot as plt"
   ]
  },
  {
   "cell_type": "code",
   "execution_count": 64,
   "metadata": {},
   "outputs": [
    {
     "name": "stdout",
     "output_type": "stream",
     "text": [
      "         Actual_Sales\n",
      "Quarter              \n",
      "Q1-17              80\n",
      "Q2-17             130\n",
      "Q3-17             140\n",
      "Q4-17              90\n",
      "Q1-18             112\n",
      "Q2-18             182\n",
      "Q3-18             196\n",
      "Q4-18             126\n",
      "Q1-19             157\n",
      "Q2-19             255\n",
      "Q3-19             274\n",
      "Q4-19             176\n",
      "         Actual_Sales       level      trend    forecast\n",
      "Quarter                                                 \n",
      "Q1-17              80   80.000000        NaN         NaN\n",
      "Q2-17             130   90.000000   2.000000         NaN\n",
      "Q3-17             140  101.600000   3.920000   92.000000\n",
      "Q4-17              90  102.416000   3.299200  105.520000\n",
      "Q1-18             112  106.972160   3.550592  105.715200\n",
      "Q2-18             182  124.818202   6.409682  110.522752\n",
      "Q3-18             196  144.182307   9.000567  131.227884\n",
      "Q4-18             126  147.746299   7.913252  153.182873\n",
      "Q1-19             157  155.927640   7.966870  155.659550\n",
      "Q2-19             255  182.115608  11.611089  163.894510\n",
      "Q3-19             274  209.781358  14.822021  193.726697\n",
      "Q4-19             176  214.882703  12.877886  224.603379\n"
     ]
    },
    {
     "data": {
      "image/png": "[encoded data removed]",
      "text/plain": [
       "<Figure size 864x288 with 1 Axes>"
      ]
     },
     "metadata": {
      "needs_background": "light"
     },
     "output_type": "display_data"
    }
   ],
   "source": [
    "# sales data\n",
    "\n",
    "Quarters = ['Q'+str(q)+'-'+str(yr)  for yr in [17,18,19] for q in range(1,5)]\n",
    "Actual = [80, 130, 140, 90, 112, 182, 196, 126, 157, 255, 274, 176]\n",
    "\n",
    "d = {'Quarter': Quarters, 'Actual_Sales':Actual}\n",
    "data = pd.DataFrame(d)\n",
    "data.set_index('Quarter', inplace=True)\n",
    "print(data)\n",
    "\n",
    "alpha=0.2\n",
    "beta=0.2\n",
    "\n",
    "y_hat_hes = data.copy()\n",
    "\n",
    "y_hat_hes['level'] =0\n",
    "y_hat_hes['trend'] = 0\n",
    "y_hat_hes['forecast'] = 0\n",
    "\n",
    "\n",
    "for i in range(len(y_hat_hes)):\n",
    "    # initialize \n",
    "    if i==0:\n",
    "        y_hat_hes.iloc[i, 1] = y_hat_hes.iloc[i, 0] # set level as yt for first row\n",
    "        continue\n",
    "    \n",
    "    yt = y_hat_hes.iloc[i, 0]\n",
    "    ltminus1 = y_hat_hes.iloc[i-1, 1]\n",
    "    btminus1 = y_hat_hes.iloc[i-1, 2]\n",
    "    lt = alpha * yt + (1-alpha) * (ltminus1 + btminus1)\n",
    "\n",
    "    bt = beta * (lt - ltminus1) + (1-beta) *(btminus1)\n",
    "\n",
    "    y_hat_hes.iloc[i, 1] = lt\n",
    "    y_hat_hes.iloc[i, 2] = bt\n",
    "    forecast = lt + bt\n",
    "    if i < len(y_hat_hes)-1:\n",
    "        y_hat_hes.iloc[i+1, 3] = forecast\n",
    "        \n",
    "y_hat_hes.iloc[0, 2] = np.nan # trend for first rec is null\n",
    "y_hat_hes.iloc[0:2, 3] = np.nan  # forecast for first two rec is null\n",
    "print(y_hat_hes)\n",
    "\n",
    "plt.figure(figsize=(12,4))\n",
    "\n",
    "plt.plot(y_hat_hes.index, y_hat_hes.iloc[:, 0], label='Actual Sales')\n",
    "plt.plot(y_hat_hes.index, y_hat_hes.iloc[:, 3], label='Forecast')\n",
    "\n",
    "plt.legend()\n",
    "plt.title('Holt Exponential Smoothing')\n",
    "plt.show()"
   ]
  },
  {
   "cell_type": "markdown",
   "metadata": {},
   "source": [
    "### Holt's Simple Smoothing Exponential method including trend"
   ]
  },
  {
   "cell_type": "code",
   "execution_count": 33,
   "metadata": {},
   "outputs": [],
   "source": [
    "from statsmodels.tsa.holtwinters import ExponentialSmoothing"
   ]
  },
  {
   "cell_type": "code",
   "execution_count": 34,
   "metadata": {},
   "outputs": [],
   "source": [
    "#read data from file\n",
    "df = pd.read_csv(r'./data/airline-traffic.csv', header=None)\n",
    "\n",
    "#rename column headers\n",
    "df.columns  =['Month', 'Passengers']\n",
    "\n",
    "# make month column as datetime\n",
    "df['Month'] = pd.to_datetime(df['Month'], format='%Y-%m')\n",
    "\n",
    "# Change month column as index\n",
    "df.set_index('Month', inplace=True)\n",
    "\n",
    "# impute missing values by linear interpolate \n",
    "df.Passengers.interpolate(method='linear', inplace=True)\n",
    "\n",
    "# change datatype of passengers as int\n",
    "df['Passengers'] = df['Passengers'].astype('int')\n",
    "\n",
    "### Split data into train , test\n",
    "train =  df[0:120]\n",
    "test  =  df[120:]"
   ]
  },
  {
   "cell_type": "code",
   "execution_count": 40,
   "metadata": {},
   "outputs": [],
   "source": [
    "model = ExponentialSmoothing(np.asarray(train['Passengers']), seasonal_periods=12, \\\n",
    "                             trend = 'additive', seasonal=None)\n"
   ]
  },
  {
   "cell_type": "code",
   "execution_count": 44,
   "metadata": {},
   "outputs": [
    {
     "name": "stdout",
     "output_type": "stream",
     "text": [
      "{'smoothing_level': 0.3, 'smoothing_slope': 0.01, 'smoothing_seasonal': None, 'damping_slope': nan, 'initial_level': 112.0, 'initial_slope': 6.0, 'initial_seasons': array([], dtype=float64), 'use_boxcox': False, 'lamda': None, 'remove_bias': False}\n"
     ]
    }
   ],
   "source": [
    "model_fit = model.fit(smoothing_level = 0.3, smoothing_slope = 0.01, optimized=False)\n",
    "print(model_fit.params)\n",
    "\n",
    "y_hat_holt = test.copy()\n",
    "y_hat_holt['holt_forecast'] = model_fit.forecast(len(test))"
   ]
  },
  {
   "cell_type": "code",
   "execution_count": 45,
   "metadata": {},
   "outputs": [
    {
     "data": {
      "text/html": [
       "<div>\n",
       "<style scoped>\n",
       "    .dataframe tbody tr th:only-of-type {\n",
       "        vertical-align: middle;\n",
       "    }\n",
       "\n",
       "    .dataframe tbody tr th {\n",
       "        vertical-align: top;\n",
       "    }\n",
       "\n",
       "    .dataframe thead th {\n",
       "        text-align: right;\n",
       "    }\n",
       "</style>\n",
       "<table border=\"1\" class=\"dataframe\">\n",
       "  <thead>\n",
       "    <tr style=\"text-align: right;\">\n",
       "      <th></th>\n",
       "      <th>Passengers</th>\n",
       "      <th>holt_forecast</th>\n",
       "    </tr>\n",
       "    <tr>\n",
       "      <th>Month</th>\n",
       "      <th></th>\n",
       "      <th></th>\n",
       "    </tr>\n",
       "  </thead>\n",
       "  <tbody>\n",
       "    <tr>\n",
       "      <th>1959-01-01</th>\n",
       "      <td>360</td>\n",
       "      <td>377.936065</td>\n",
       "    </tr>\n",
       "    <tr>\n",
       "      <th>1959-02-01</th>\n",
       "      <td>342</td>\n",
       "      <td>381.191530</td>\n",
       "    </tr>\n",
       "    <tr>\n",
       "      <th>1959-03-01</th>\n",
       "      <td>406</td>\n",
       "      <td>384.446996</td>\n",
       "    </tr>\n",
       "    <tr>\n",
       "      <th>1959-04-01</th>\n",
       "      <td>396</td>\n",
       "      <td>387.702461</td>\n",
       "    </tr>\n",
       "    <tr>\n",
       "      <th>1959-05-01</th>\n",
       "      <td>420</td>\n",
       "      <td>390.957927</td>\n",
       "    </tr>\n",
       "  </tbody>\n",
       "</table>\n",
       "</div>"
      ],
      "text/plain": [
       "            Passengers  holt_forecast\n",
       "Month                                \n",
       "1959-01-01         360     377.936065\n",
       "1959-02-01         342     381.191530\n",
       "1959-03-01         406     384.446996\n",
       "1959-04-01         396     387.702461\n",
       "1959-05-01         420     390.957927"
      ]
     },
     "execution_count": 45,
     "metadata": {},
     "output_type": "execute_result"
    }
   ],
   "source": [
    "y_hat_holt.head()"
   ]
  },
  {
   "cell_type": "code",
   "execution_count": 48,
   "metadata": {},
   "outputs": [
    {
     "data": {
      "image/png": "[encoded data removed]",
      "text/plain": [
       "<Figure size 864x288 with 1 Axes>"
      ]
     },
     "metadata": {
      "needs_background": "light"
     },
     "output_type": "display_data"
    }
   ],
   "source": [
    "plt.figure(figsize=(12,4))\n",
    "\n",
    "plt.plot(train['Passengers'], label='Train')\n",
    "plt.plot(test['Passengers'], label='Test')\n",
    "plt.plot(y_hat_holt['holt_forecast'], label='Holt-Forecast')\n",
    "\n",
    "plt.legend()\n",
    "plt.title('Holt Exponential Smoothing')\n",
    "plt.show()"
   ]
  },
  {
   "cell_type": "code",
   "execution_count": 53,
   "metadata": {},
   "outputs": [
    {
     "name": "stdout",
     "output_type": "stream",
     "text": [
      "RMSE: 78.39245949688907, MAPE:11.170470973074538\n"
     ]
    }
   ],
   "source": [
    "\n",
    "# error\n",
    "error = y_hat_holt.iloc[:, 0] - y_hat_holt.iloc[:, 1]\n",
    "\n",
    "rmse = np.sqrt((np.sum(error**2))/len(error))\n",
    "mape = (np.sum(abs(error) / y_hat_holt.iloc[:,0])) * 100 / len(error)\n",
    "\n",
    "print(f\"RMSE: {rmse}, MAPE:{mape}\")"
   ]
  },
  {
   "cell_type": "code",
   "execution_count": null,
   "metadata": {},
   "outputs": [],
   "source": []
  }
 ],
 "metadata": {
  "kernelspec": {
   "display_name": "Python3_6",
   "language": "python",
   "name": "test_env_3"
  },
  "language_info": {
   "codemirror_mode": {
    "name": "ipython",
    "version": 3
   },
   "file_extension": ".py",
   "mimetype": "text/x-python",
   "name": "python",
   "nbconvert_exporter": "python",
   "pygments_lexer": "ipython3",
   "version": "3.6.10"
  },
  "toc": {
   "base_numbering": 1,
   "nav_menu": {},
   "number_sections": true,
   "sideBar": true,
   "skip_h1_title": false,
   "title_cell": "Table of Contents",
   "title_sidebar": "Contents",
   "toc_cell": false,
   "toc_position": {},
   "toc_section_display": true,
   "toc_window_display": false
  }
 },
 "nbformat": 4,
 "nbformat_minor": 4
}
