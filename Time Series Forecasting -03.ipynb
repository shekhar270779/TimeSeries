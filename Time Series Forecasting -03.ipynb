{
 "cells": [
  {
   "cell_type": "markdown",
   "metadata": {},
   "source": [
    "### Forecasting models"
   ]
  },
  {
   "cell_type": "markdown",
   "metadata": {},
   "source": [
    "#### Naive method\n",
    "we simply set all forecasts to be the value of the last observation <br>\n",
    "$\\hat{y}_{T+h | T}$  = ${y}_{T}$"
   ]
  },
  {
   "cell_type": "markdown",
   "metadata": {},
   "source": [
    "#### Seasonal Naive method\n",
    "In this case, we set each forecast to be equal to the last observed value from the same season of the year (e.g., the same month of the previous year).\n",
    "<br>\n",
    "Formally, the forecast for time T+h is written as\n",
    "<br>\n",
    "$\\hat{y}_{T+h | T}$  = ${y}_{T+h-m(k+1)}$\n",
    "<br>\n",
    "* m: seasonal period<br>\n",
    "* k is integer part of (h-1)/m"
   ]
  },
  {
   "cell_type": "markdown",
   "metadata": {},
   "source": [
    "Put Simply, \n",
    "- For example, with monthly data, the forecast for all future February values is equal to the last observed February value.\n",
    "- With quarterly data, the forecast of all future Q2 values is equal to the last observed Q2 value"
   ]
  },
  {
   "cell_type": "markdown",
   "metadata": {},
   "source": [
    "#### Simple average method\n",
    "The forecasts of all future values are equal to the average (or “mean”) of the historical data. <br>\n",
    "If we let the historical data be denoted ${y}_{1}$, ${y}_{2}$,${y}_{3}$,..${y}_{T}$, then we can write the forecasts as\n",
    "<br>\n",
    "$\\hat{y}_{T+h | T}$ = $\\bar{y}$ = (${y}_{1}$ + ${y}_{2}$ + ${y}_{3}$ + ..${y}_{T}$)/T"
   ]
  },
  {
   "cell_type": "markdown",
   "metadata": {},
   "source": [
    "The notation $\\hat{y}_{T+h | T}$ is a short-hand for the estimate of ${y}_{T+h}$ based on the data  \n",
    "${y}_{1}$, ${y}_{2}$,${y}_{3}$,..${y}_{T}$"
   ]
  },
  {
   "cell_type": "markdown",
   "metadata": {},
   "source": [
    "#### Drift Method\n",
    "A variation on the naïve method is to allow the forecasts to increase or decrease over time, where the amount of change over time (called the drift) is set to be the average change seen in the historical data. <br>\n",
    "Thus the forecast for time  T+h is given by \n",
    "<br>\n",
    "$\\hat{y}_{T+h | T}$  = ${y}_{T}$ + h (${y}_{T}$ - ${y}_{1}$ / T -1)"
   ]
  },
  {
   "cell_type": "code",
   "execution_count": 1,
   "metadata": {},
   "outputs": [],
   "source": [
    "import numpy as np\n",
    "import pandas as pd\n",
    "import matplotlib.pyplot as plt\n",
    "import seaborn as sns\n",
    "plt.style.use('seaborn-colorblind')"
   ]
  },
  {
   "cell_type": "code",
   "execution_count": 6,
   "metadata": {},
   "outputs": [],
   "source": [
    "#read data from file\n",
    "df = pd.read_csv(r'./data/airline-traffic.csv', header=None)\n",
    "\n",
    "#rename column headers\n",
    "df.columns  =['Month', 'Passengers']\n",
    "\n",
    "# make month column as datetime\n",
    "df['Month'] = pd.to_datetime(df['Month'], format='%Y-%m')\n",
    "\n",
    "# Change month column as index\n",
    "df.set_index('Month', inplace=True)\n",
    "\n",
    "# impute missing values by linear interpolate \n",
    "df.Passengers.interpolate(method='linear', inplace=True)\n",
    "\n",
    "# change datatype of passengers as int\n",
    "df['Passengers'] = df['Passengers'].astype('int')"
   ]
  },
  {
   "cell_type": "code",
   "execution_count": 7,
   "metadata": {},
   "outputs": [
    {
     "data": {
      "text/html": [
       "<div>\n",
       "<style scoped>\n",
       "    .dataframe tbody tr th:only-of-type {\n",
       "        vertical-align: middle;\n",
       "    }\n",
       "\n",
       "    .dataframe tbody tr th {\n",
       "        vertical-align: top;\n",
       "    }\n",
       "\n",
       "    .dataframe thead th {\n",
       "        text-align: right;\n",
       "    }\n",
       "</style>\n",
       "<table border=\"1\" class=\"dataframe\">\n",
       "  <thead>\n",
       "    <tr style=\"text-align: right;\">\n",
       "      <th></th>\n",
       "      <th>Passengers</th>\n",
       "    </tr>\n",
       "    <tr>\n",
       "      <th>Month</th>\n",
       "      <th></th>\n",
       "    </tr>\n",
       "  </thead>\n",
       "  <tbody>\n",
       "    <tr>\n",
       "      <th>1949-01-01</th>\n",
       "      <td>112</td>\n",
       "    </tr>\n",
       "    <tr>\n",
       "      <th>1949-02-01</th>\n",
       "      <td>118</td>\n",
       "    </tr>\n",
       "    <tr>\n",
       "      <th>1949-03-01</th>\n",
       "      <td>132</td>\n",
       "    </tr>\n",
       "    <tr>\n",
       "      <th>1949-04-01</th>\n",
       "      <td>129</td>\n",
       "    </tr>\n",
       "    <tr>\n",
       "      <th>1949-05-01</th>\n",
       "      <td>121</td>\n",
       "    </tr>\n",
       "  </tbody>\n",
       "</table>\n",
       "</div>"
      ],
      "text/plain": [
       "            Passengers\n",
       "Month                 \n",
       "1949-01-01         112\n",
       "1949-02-01         118\n",
       "1949-03-01         132\n",
       "1949-04-01         129\n",
       "1949-05-01         121"
      ]
     },
     "execution_count": 7,
     "metadata": {},
     "output_type": "execute_result"
    }
   ],
   "source": [
    "df.head()"
   ]
  },
  {
   "cell_type": "code",
   "execution_count": 9,
   "metadata": {},
   "outputs": [],
   "source": [
    "### Split data into train , test\n",
    "train =  df[0:120]\n",
    "test  =  df[120:]"
   ]
  },
  {
   "cell_type": "markdown",
   "metadata": {},
   "source": [
    "### Implementation"
   ]
  },
  {
   "cell_type": "markdown",
   "metadata": {},
   "source": [
    "#### Naive method implementation"
   ]
  },
  {
   "cell_type": "code",
   "execution_count": 21,
   "metadata": {},
   "outputs": [],
   "source": [
    "# we want to predict for test data,so initialize y_hat_naive as test data\n",
    "y_hat_naive = test.copy()\n",
    "\n",
    "# set all values of y_hat_naive as last value of train data \n",
    "y_hat_naive['naive_forecast'] = train.iloc[-1][0]"
   ]
  },
  {
   "cell_type": "code",
   "execution_count": 24,
   "metadata": {},
   "outputs": [
    {
     "data": {
      "text/html": [
       "<div>\n",
       "<style scoped>\n",
       "    .dataframe tbody tr th:only-of-type {\n",
       "        vertical-align: middle;\n",
       "    }\n",
       "\n",
       "    .dataframe tbody tr th {\n",
       "        vertical-align: top;\n",
       "    }\n",
       "\n",
       "    .dataframe thead th {\n",
       "        text-align: right;\n",
       "    }\n",
       "</style>\n",
       "<table border=\"1\" class=\"dataframe\">\n",
       "  <thead>\n",
       "    <tr style=\"text-align: right;\">\n",
       "      <th></th>\n",
       "      <th>Passengers</th>\n",
       "      <th>naive_forecast</th>\n",
       "    </tr>\n",
       "    <tr>\n",
       "      <th>Month</th>\n",
       "      <th></th>\n",
       "      <th></th>\n",
       "    </tr>\n",
       "  </thead>\n",
       "  <tbody>\n",
       "    <tr>\n",
       "      <th>1959-01-01</th>\n",
       "      <td>360</td>\n",
       "      <td>337</td>\n",
       "    </tr>\n",
       "    <tr>\n",
       "      <th>1959-02-01</th>\n",
       "      <td>342</td>\n",
       "      <td>337</td>\n",
       "    </tr>\n",
       "    <tr>\n",
       "      <th>1959-03-01</th>\n",
       "      <td>406</td>\n",
       "      <td>337</td>\n",
       "    </tr>\n",
       "    <tr>\n",
       "      <th>1959-04-01</th>\n",
       "      <td>396</td>\n",
       "      <td>337</td>\n",
       "    </tr>\n",
       "    <tr>\n",
       "      <th>1959-05-01</th>\n",
       "      <td>420</td>\n",
       "      <td>337</td>\n",
       "    </tr>\n",
       "  </tbody>\n",
       "</table>\n",
       "</div>"
      ],
      "text/plain": [
       "            Passengers  naive_forecast\n",
       "Month                                 \n",
       "1959-01-01         360             337\n",
       "1959-02-01         342             337\n",
       "1959-03-01         406             337\n",
       "1959-04-01         396             337\n",
       "1959-05-01         420             337"
      ]
     },
     "execution_count": 24,
     "metadata": {},
     "output_type": "execute_result"
    }
   ],
   "source": [
    "y_hat_naive.head()"
   ]
  },
  {
   "cell_type": "code",
   "execution_count": 23,
   "metadata": {},
   "outputs": [
    {
     "data": {
      "image/png": "[encoded data removed]",
      "text/plain": [
       "<Figure size 864x288 with 1 Axes>"
      ]
     },
     "metadata": {
      "needs_background": "light"
     },
     "output_type": "display_data"
    }
   ],
   "source": [
    "fig, ax = plt.subplots(figsize = (12, 4))\n",
    "\n",
    "plt.plot(train['Passengers'], label = 'Train')\n",
    "plt.plot(test['Passengers'], label = 'Test')\n",
    "plt.plot(y_hat_naive['naive_forecast'], label='Naive forecast')\n",
    "\n",
    "plt.legend(loc='best')\n",
    "plt.title('Naive Method of forecast')\n",
    "\n",
    "plt.show()"
   ]
  },
  {
   "cell_type": "code",
   "execution_count": 27,
   "metadata": {},
   "outputs": [
    {
     "name": "stdout",
     "output_type": "stream",
     "text": [
      "RMSE: 137.51, MAPE:23.63\n"
     ]
    }
   ],
   "source": [
    "# Calculate RMSE and MAPE to evaluate forecast\n",
    "from sklearn.metrics import mean_squared_error\n",
    "\n",
    "rmse = np.sqrt(mean_squared_error(test.Passengers, y_hat_naive.naive_forecast)).round(2)\n",
    "mape = np.round(np.mean(np.abs(test.Passengers - y_hat_naive.naive_forecast)/test.Passengers)* 100, 2)\n",
    "\n",
    "print(f\"RMSE: {rmse}, MAPE:{mape}\")"
   ]
  },
  {
   "cell_type": "markdown",
   "metadata": {},
   "source": [
    "#### Simple average method implementation"
   ]
  },
  {
   "cell_type": "code",
   "execution_count": 29,
   "metadata": {},
   "outputs": [],
   "source": [
    "y_hat_avg = test.copy()\n",
    "\n",
    "y_hat_avg['average_forecast'] = np.mean(train.Passengers)\n"
   ]
  },
  {
   "cell_type": "code",
   "execution_count": 30,
   "metadata": {},
   "outputs": [
    {
     "data": {
      "image/png": "[encoded data removed]",
      "text/plain": [
       "<Figure size 864x288 with 1 Axes>"
      ]
     },
     "metadata": {
      "needs_background": "light"
     },
     "output_type": "display_data"
    }
   ],
   "source": [
    "fig, ax = plt.subplots(figsize = (12, 4))\n",
    "\n",
    "plt.plot(train['Passengers'], label = 'Train')\n",
    "plt.plot(test['Passengers'], label = 'Test')\n",
    "plt.plot(y_hat_avg['average_forecast'], label='Average forecast')\n",
    "\n",
    "plt.legend(loc='best')\n",
    "plt.title('Simple Average Method of forecast')\n",
    "\n",
    "plt.show()"
   ]
  },
  {
   "cell_type": "code",
   "execution_count": 31,
   "metadata": {},
   "outputs": [
    {
     "name": "stdout",
     "output_type": "stream",
     "text": [
      "RMSE: 219.69, MAPE:44.28\n"
     ]
    }
   ],
   "source": [
    "# Error measure\n",
    "\n",
    "rmse = np.sqrt(mean_squared_error(test.Passengers, y_hat_avg.average_forecast)).round(2)\n",
    "mape = np.round(np.mean(np.abs(test.Passengers - y_hat_avg.average_forecast)/test.Passengers)* 100, 2)\n",
    "\n",
    "print(f\"RMSE: {rmse}, MAPE:{mape}\")\n"
   ]
  }
 ],
 "metadata": {
  "kernelspec": {
   "display_name": "Python 3",
   "language": "python",
   "name": "python3"
  },
  "language_info": {
   "codemirror_mode": {
    "name": "ipython",
    "version": 3
   },
   "file_extension": ".py",
   "mimetype": "text/x-python",
   "name": "python",
   "nbconvert_exporter": "python",
   "pygments_lexer": "ipython3",
   "version": "3.6.10"
  },
  "toc": {
   "base_numbering": 1,
   "nav_menu": {},
   "number_sections": true,
   "sideBar": true,
   "skip_h1_title": false,
   "title_cell": "Table of Contents",
   "title_sidebar": "Contents",
   "toc_cell": false,
   "toc_position": {},
   "toc_section_display": true,
   "toc_window_display": false
  }
 },
 "nbformat": 4,
 "nbformat_minor": 4
}
